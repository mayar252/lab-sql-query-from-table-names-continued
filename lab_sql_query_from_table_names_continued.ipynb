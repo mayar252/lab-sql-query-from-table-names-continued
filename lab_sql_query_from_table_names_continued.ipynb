{
  "cells": [
    {
      "cell_type": "markdown",
      "id": "7d930c89-4954-4e39-be5a-601c1dd89512",
      "metadata": {
        "id": "7d930c89-4954-4e39-be5a-601c1dd89512"
      },
      "source": [
        "# SQL query from table names - Continued\n",
        "\n",
        "\n"
      ]
    },
    {
      "cell_type": "code",
      "execution_count": 1,
      "id": "a03f026a",
      "metadata": {
        "id": "a03f026a"
      },
      "outputs": [],
      "source": [
        "from openai import OpenAI\n",
        "import os\n",
        "from dotenv import load_dotenv, find_dotenv\n",
        "_ = load_dotenv(find_dotenv())\n",
        "\n",
        "OPENAI_API_KEY  = os.getenv('OPENAI_API_KEY')"
      ]
    },
    {
      "cell_type": "markdown",
      "id": "53a05b80-88fd-42b2-ba89-763074ae74e9",
      "metadata": {
        "id": "53a05b80-88fd-42b2-ba89-763074ae74e9"
      },
      "source": [
        "## The old Prompt"
      ]
    },
    {
      "cell_type": "code",
      "execution_count": 2,
      "id": "922f8d24",
      "metadata": {
        "id": "922f8d24"
      },
      "outputs": [],
      "source": [
        "#The old prompt\n",
        "old_context = [ {'role':'system', 'content':\"\"\"\n",
        "you are a bot to assist in create SQL commands, all your answers should start with \\\n",
        "this is your SQL, and after that an SQL that can do what the user request. \\\n",
        "Your Database is composed by a SQL database with some tables. \\\n",
        "Try to maintain the SQL order simple.\n",
        "Put the SQL command in white letters with a black background, and just after \\\n",
        "a simple and concise text explaining how it works.\n",
        "If the user ask for something that can not be solved with an SQL Order \\\n",
        "just answer something nice and simple, maximum 10 words, asking him for something that \\\n",
        "can be solved with SQL.\n",
        "\"\"\"} ]\n",
        "\n",
        "old_context.append( {'role':'system', 'content':\"\"\"\n",
        "first table:\n",
        "{\n",
        "  \"tableName\": \"employees\",\n",
        "  \"fields\": [\n",
        "    {\n",
        "      \"nombre\": \"ID_usr\",\n",
        "      \"tipo\": \"int\"\n",
        "    },\n",
        "    {\n",
        "      \"nombre\": \"name\",\n",
        "      \"tipo\": \"varchar\"\n",
        "    }\n",
        "  ]\n",
        "}\n",
        "\"\"\"\n",
        "})\n",
        "\n",
        "old_context.append( {'role':'system', 'content':\"\"\"\n",
        "second table:\n",
        "{\n",
        "  \"tableName\": \"salary\",\n",
        "  \"fields\": [\n",
        "    {\n",
        "      \"nombre\": \"ID_usr\",\n",
        "      \"type\": \"int\"\n",
        "    },\n",
        "    {\n",
        "      \"name\": \"year\",\n",
        "      \"type\": \"date\"\n",
        "    },\n",
        "    {\n",
        "      \"name\": \"salary\",\n",
        "      \"type\": \"float\"\n",
        "    }\n",
        "  ]\n",
        "}\n",
        "\"\"\"\n",
        "})\n",
        "\n",
        "old_context.append( {'role':'system', 'content':\"\"\"\n",
        "third table:\n",
        "{\n",
        "  \"tablename\": \"studies\",\n",
        "  \"fields\": [\n",
        "    {\n",
        "      \"name\": \"ID\",\n",
        "      \"type\": \"int\"\n",
        "    },\n",
        "    {\n",
        "      \"name\": \"ID_usr\",\n",
        "      \"type\": \"int\"\n",
        "    },\n",
        "    {\n",
        "      \"name\": \"educational_level\",\n",
        "      \"type\": \"int\"\n",
        "    },\n",
        "    {\n",
        "      \"name\": \"Institution\",\n",
        "      \"type\": \"varchar\"\n",
        "    },\n",
        "    {\n",
        "      \"name\": \"Years\",\n",
        "      \"type\": \"date\"\n",
        "    }\n",
        "    {\n",
        "      \"name\": \"Speciality\",\n",
        "      \"type\": \"varchar\"\n",
        "    }\n",
        "  ]\n",
        "}\n",
        "\"\"\"\n",
        "})"
      ]
    },
    {
      "cell_type": "markdown",
      "id": "377acaae-7dd0-4d13-bc68-9e33741c231c",
      "metadata": {
        "id": "377acaae-7dd0-4d13-bc68-9e33741c231c"
      },
      "source": [
        "## New Prompt.\n",
        "We are going to improve it following the instructions of a Paper from the Ohaio University: [How to Prompt LLMs for Text-to-SQL: A Study in Zero-shot, Single-domain, and Cross-domain Settings](https://arxiv.org/abs/2305.11853). I recommend you read that paper.\n",
        "\n",
        "For each table, we will define the structure using the same syntax as in a SQL create table command, and add the sample rows of the content.\n",
        "\n",
        "Finally, at the end of the prompt, we'll include some example queries with the SQL that the model should generate. This technique is called Few-Shot Samples, in which we provide the prompt with some examples to assist it in generating the correct SQL.\n"
      ]
    },
    {
      "cell_type": "code",
      "execution_count": 5,
      "id": "5334f942",
      "metadata": {
        "id": "5334f942"
      },
      "outputs": [],
      "source": [
        "context = [\n",
        "    {'role': 'system', 'content': \"\"\"\n",
        "    CREATE TABLE employees (\n",
        "        ID_usr INT PRIMARY KEY,\n",
        "        name VARCHAR(255),\n",
        "        department VARCHAR(255)\n",
        "    );\n",
        "\n",
        "    INSERT INTO employees (ID_usr, name, department) VALUES (1, 'John Doe', 'HR');\n",
        "    INSERT INTO employees (ID_usr, name, department) VALUES (2, 'Jane Smith', 'Finance');\n",
        "    INSERT INTO employees (ID_usr, name, department) VALUES (3, 'Emily Johnson', 'IT');\n",
        "\n",
        "    CREATE TABLE salary (\n",
        "        ID_usr INT,\n",
        "        year DATE,\n",
        "        salary FLOAT,\n",
        "        FOREIGN KEY (ID_usr) REFERENCES employees(ID_usr)\n",
        "    );\n",
        "\n",
        "    INSERT INTO salary (ID_usr, year, salary) VALUES (1, '2024-01-01', 60000);\n",
        "    INSERT INTO salary (ID_usr, year, salary) VALUES (2, '2024-01-01', 70000);\n",
        "    INSERT INTO salary (ID_usr, year, salary) VALUES (3, '2024-01-01', 75000);\n",
        "\n",
        "    CREATE TABLE studies (\n",
        "        ID INT PRIMARY KEY,\n",
        "        ID_usr INT,\n",
        "        educational_level VARCHAR(255),\n",
        "        institution VARCHAR(255),\n",
        "        years DATE,\n",
        "        speciality VARCHAR(255),\n",
        "        FOREIGN KEY (ID_usr) REFERENCES employees(ID_usr)\n",
        "    );\n",
        "\n",
        "    INSERT INTO studies (ID, ID_usr, educational_level, institution, years, speciality)\n",
        "    VALUES (1, 1, 'Bachelor', 'University A', '2010-2014', 'Business');\n",
        "    INSERT INTO studies (ID, ID_usr, educational_level, institution, years, speciality)\n",
        "    VALUES (2, 2, 'Master', 'University B', '2012-2014', 'Finance');\n",
        "    INSERT INTO studies (ID, ID_usr, educational_level, institution, years, speciality)\n",
        "    VALUES (3, 3, 'PhD', 'University C', '2015-2020', 'Computer Science');\n",
        "    \"\"\"\n",
        "    }\n",
        "]\n"
      ]
    },
    {
      "cell_type": "code",
      "execution_count": 6,
      "id": "330e69b0-3f5f-4bb2-8185-aedded2bb993",
      "metadata": {
        "id": "330e69b0-3f5f-4bb2-8185-aedded2bb993"
      },
      "outputs": [],
      "source": [
        "context.append({'role': 'system', 'content': \"\"\"\n",
        " -- Maintain the SQL order simple and efficient as you can, using valid SQLite.\n",
        " -- Answer the following questions for the tables provided above.\n",
        "\n",
        " -- Example 1: Find the name and salary of the highest-paid employee in the IT department.\n",
        " SELECT e.name, s.salary\n",
        " FROM employees e\n",
        " JOIN salary s ON e.ID_usr = s.ID_usr\n",
        " WHERE e.department = 'IT'\n",
        " ORDER BY s.salary DESC\n",
        " LIMIT 1;\n",
        "\n",
        " -- Example 2: Find the average salary by department.\n",
        " SELECT e.department, AVG(s.salary) AS avg_salary\n",
        " FROM employees e\n",
        " JOIN salary s ON e.ID_usr = s.ID_usr\n",
        " GROUP BY e.department\n",
        " ORDER BY avg_salary DESC;\n",
        "\n",
        " -- Example 3: Find employees who have not received a salary in the last year.\n",
        " SELECT e.name\n",
        " FROM employees e\n",
        " LEFT JOIN salary s ON e.ID_usr = s.ID_usr AND s.year >= '2024-01-01'\n",
        " WHERE s.ID_usr IS NULL;\n",
        "\n",
        " -- Example 4: Find the institution that has the highest average salary among its graduates.\n",
        " SELECT st.institution, AVG(sa.salary) AS avg_salary\n",
        " FROM studies st\n",
        " JOIN employees e ON st.ID_usr = e.ID_usr\n",
        " JOIN salary sa ON e.ID_usr = sa.ID_usr\n",
        " GROUP BY st.institution\n",
        " ORDER BY avg_salary DESC\n",
        " LIMIT 1;\n",
        "\n",
        " -- Example 5: Find the employees who studied at 'University B'.\n",
        " SELECT e.name\n",
        " FROM employees e\n",
        " JOIN studies s ON e.ID_usr = s.ID_usr\n",
        " WHERE s.institution = 'University B';\n",
        "\"\"\"})\n"
      ]
    },
    {
      "cell_type": "code",
      "execution_count": 7,
      "id": "b90f417a",
      "metadata": {
        "id": "b90f417a"
      },
      "outputs": [],
      "source": [
        "#Functio to call the model.\n",
        "def return_CCRMSQL(user_message, context):\n",
        "    client = OpenAI(\n",
        "    # This is the default and can be omitted\n",
        "    api_key=OPENAI_API_KEY,\n",
        ")\n",
        "\n",
        "    newcontext = context.copy()\n",
        "    newcontext.append({'role':'user', 'content':\"question: \" + user_message})\n",
        "\n",
        "    response = client.chat.completions.create(\n",
        "            model=\"gpt-3.5-turbo\",\n",
        "            messages=newcontext,\n",
        "            temperature=0,\n",
        "        )\n",
        "\n",
        "    return (response.choices[0].message.content)"
      ]
    },
    {
      "cell_type": "markdown",
      "id": "9e0a4c11-dfe1-46fe-ac2b-3ff825f9749c",
      "metadata": {
        "id": "9e0a4c11-dfe1-46fe-ac2b-3ff825f9749c"
      },
      "source": [
        "## NL2SQL Samples\n",
        "We're going to review some examples generated with the old prompt and others with the new prompt."
      ]
    },
    {
      "cell_type": "code",
      "execution_count": 8,
      "id": "59e8202c-ce34-487e-9037-c65a263423ed",
      "metadata": {
        "colab": {
          "base_uri": "https://localhost:8080/"
        },
        "id": "59e8202c-ce34-487e-9037-c65a263423ed",
        "outputId": "b74a010d-64de-4321-a87f-c2a51628af7a"
      },
      "outputs": [
        {
          "output_type": "stream",
          "name": "stdout",
          "text": [
            "```sql\n",
            "SELECT e.name, s.salary\n",
            "FROM employees e\n",
            "JOIN salary s ON e.ID_usr = s.ID_usr\n",
            "WHERE e.department = 'IT'\n",
            "ORDER BY s.salary DESC\n",
            "LIMIT 1;\n",
            "```\n"
          ]
        }
      ],
      "source": [
        "context_user = context.copy()\n",
        "print(return_CCRMSQL(\"Find the name and salary of the highest-paid employee in the IT department.\", context_user))\n"
      ]
    },
    {
      "cell_type": "code",
      "execution_count": 9,
      "id": "9c4766b1-48a9-456e-bc6c-4b6f41909aa4",
      "metadata": {
        "colab": {
          "base_uri": "https://localhost:8080/"
        },
        "id": "9c4766b1-48a9-456e-bc6c-4b6f41909aa4",
        "outputId": "9f4f240f-7459-4862-a4fa-30328057079a"
      },
      "outputs": [
        {
          "output_type": "stream",
          "name": "stdout",
          "text": [
            "This is your SQL:\n",
            "```sql\n",
            "SELECT e.department, AVG(s.salary) AS avg_salary\n",
            "FROM employees e\n",
            "JOIN salary s ON e.ID_usr = s.ID_usr\n",
            "GROUP BY e.department;\n",
            "```\n",
            "\n",
            "This SQL query joins the \"employees\" and \"salary\" tables on the employee ID, calculates the average salary for each department, and displays the result.\n"
          ]
        }
      ],
      "source": [
        "old_context_user = old_context.copy()\n",
        "print(return_CCRMSQL(\"Find the average salary by department.\", old_context_user))\n"
      ]
    },
    {
      "cell_type": "code",
      "execution_count": 10,
      "id": "38d8d370-0524-4a28-bd54-5e5cddb08e2c",
      "metadata": {
        "colab": {
          "base_uri": "https://localhost:8080/"
        },
        "id": "38d8d370-0524-4a28-bd54-5e5cddb08e2c",
        "outputId": "f6aa6d1a-8b0c-4161-fcd4-e4c013bf2e1d"
      },
      "outputs": [
        {
          "output_type": "stream",
          "name": "stdout",
          "text": [
            "```sql\n",
            "SELECT e.name, s.salary\n",
            "FROM employees e\n",
            "JOIN salary s ON e.ID_usr = s.ID_usr\n",
            "WHERE e.department = 'IT'\n",
            "ORDER BY s.salary DESC\n",
            "LIMIT 1;\n",
            "```\n"
          ]
        }
      ],
      "source": [
        "print(return_CCRMSQL(\"Find the highest-paid employee in the IT department.\", context_user))\n"
      ]
    },
    {
      "cell_type": "code",
      "execution_count": 11,
      "id": "5aa318d4-dd9f-41db-8ff4-c1d87220f766",
      "metadata": {
        "colab": {
          "base_uri": "https://localhost:8080/"
        },
        "id": "5aa318d4-dd9f-41db-8ff4-c1d87220f766",
        "outputId": "4a0ed9cd-9ece-48b3-a92a-8edfc1e6b6ed"
      },
      "outputs": [
        {
          "output_type": "stream",
          "name": "stdout",
          "text": [
            "This is your SQL:\n",
            "```sql\n",
            "SELECT e.name, s.salary\n",
            "FROM employees e\n",
            "JOIN salary s ON e.ID_usr = s.ID_usr\n",
            "WHERE e.ID_usr IN (SELECT ID_usr FROM studies WHERE educational_level = 'IT')\n",
            "ORDER BY s.salary DESC\n",
            "LIMIT 1;\n",
            "```\n",
            "\n",
            "This SQL query retrieves the name and salary of the highest-paid employee in the IT department. It joins the \"employees\" and \"salary\" tables on the employee ID, filters the employees with an educational level of 'IT' from the \"studies\" table, and then orders the results by salary in descending order to get the highest-paid employee.\n"
          ]
        }
      ],
      "source": [
        "print(return_CCRMSQL(\"Find the highest-paid employee in the IT department.\", old_context_user))\n"
      ]
    },
    {
      "cell_type": "markdown",
      "id": "0f31968e-74ad-4ae2-9537-b3d550b1be47",
      "metadata": {
        "id": "0f31968e-74ad-4ae2-9537-b3d550b1be47"
      },
      "source": [
        "# Exercise\n",
        " - Complete the prompts similar to what we did in class.\n",
        "     - Try at least 3 versions\n",
        "     - Be creative\n",
        " - Write a one page report summarizing your findings.\n",
        "     - Were there variations that didn't work well? i.e., where GPT either hallucinated or wrong.\n",
        "     - What did you learn?"
      ]
    },
    {
      "cell_type": "code",
      "source": [
        "#Employee Salary Query\n",
        "context = [\n",
        "    {'role': 'system', 'content': \"\"\"\n",
        "    CREATE TABLE employees (\n",
        "        ID_usr INT,\n",
        "        name VARCHAR(255),\n",
        "        department VARCHAR(255)\n",
        "    );\n",
        "\n",
        "    INSERT INTO employees (ID_usr, name, department) VALUES (1, 'John Doe', 'HR');\n",
        "    INSERT INTO employees (ID_usr, name, department) VALUES (2, 'Jane Smith', 'Finance');\n",
        "    INSERT INTO employees (ID_usr, name, department) VALUES (3, 'Emily Johnson', 'IT');\n",
        "\n",
        "    CREATE TABLE salary (\n",
        "        ID_usr INT,\n",
        "        year DATE,\n",
        "        salary FLOAT\n",
        "    );\n",
        "\n",
        "    INSERT INTO salary (ID_usr, year, salary) VALUES (1, '2024-01-01', 60000);\n",
        "    INSERT INTO salary (ID_usr, year, salary) VALUES (2, '2024-01-01', 70000);\n",
        "    INSERT INTO salary (ID_usr, year, salary) VALUES (3, '2024-01-01', 75000);\n",
        "    \"\"\"\n",
        "    },\n",
        "    {'role': 'system', 'content': \"\"\"\n",
        "    -- Sample Query\n",
        "    -- Find the name and salary of the highest-paid employee in the IT department.\n",
        "    -- This will join the employees and salary tables to return the desired information.\n",
        "    -- The query must return the name of the employee with the highest salary from the IT department.\n",
        "    SELECT e.name, s.salary\n",
        "    FROM employees e\n",
        "    JOIN salary s ON e.ID_usr = s.ID_usr\n",
        "    WHERE e.department = 'IT'\n",
        "    ORDER BY s.salary DESC\n",
        "    LIMIT 1;\n",
        "    \"\"\"\n",
        "    }\n",
        "]\n",
        "\n",
        "# User query for this version\n",
        "user_query = \"Find the name and salary of the highest-paid employee in the IT department.\"\n",
        "\n",
        "# Get response from the model\n",
        "print(return_CCRMSQL(user_query, context))\n"
      ],
      "metadata": {
        "colab": {
          "base_uri": "https://localhost:8080/"
        },
        "id": "58A8rq-cO2QL",
        "outputId": "9cc11b80-90ea-4edd-d6be-1b1e7f2f6f38"
      },
      "id": "58A8rq-cO2QL",
      "execution_count": 12,
      "outputs": [
        {
          "output_type": "stream",
          "name": "stdout",
          "text": [
            "Here is the SQL query to find the name and salary of the highest-paid employee in the IT department:\n",
            "\n",
            "```sql\n",
            "SELECT e.name, s.salary\n",
            "FROM employees e\n",
            "JOIN salary s ON e.ID_usr = s.ID_usr\n",
            "WHERE e.department = 'IT'\n",
            "ORDER BY s.salary DESC\n",
            "LIMIT 1;\n",
            "```\n",
            "\n",
            "This query will return the name and salary of the highest-paid employee in the IT department.\n"
          ]
        }
      ]
    },
    {
      "cell_type": "code",
      "source": [
        "#Average Salary by Department\n",
        "context = [\n",
        "    {'role': 'system', 'content': \"\"\"\n",
        "    CREATE TABLE employees (\n",
        "        ID_usr INT,\n",
        "        name VARCHAR(255),\n",
        "        department VARCHAR(255)\n",
        "    );\n",
        "\n",
        "    INSERT INTO employees (ID_usr, name, department) VALUES (1, 'John Doe', 'HR');\n",
        "    INSERT INTO employees (ID_usr, name, department) VALUES (2, 'Jane Smith', 'Finance');\n",
        "    INSERT INTO employees (ID_usr, name, department) VALUES (3, 'Emily Johnson', 'IT');\n",
        "\n",
        "    CREATE TABLE salary (\n",
        "        ID_usr INT,\n",
        "        year DATE,\n",
        "        salary FLOAT\n",
        "    );\n",
        "\n",
        "    INSERT INTO salary (ID_usr, year, salary) VALUES (1, '2024-01-01', 60000);\n",
        "    INSERT INTO salary (ID_usr, year, salary) VALUES (2, '2024-01-01', 70000);\n",
        "    INSERT INTO salary (ID_usr, year, salary) VALUES (3, '2024-01-01', 75000);\n",
        "    \"\"\"\n",
        "    },\n",
        "    {'role': 'system', 'content': \"\"\"\n",
        "    -- Sample Query\n",
        "    -- Find the average salary by department. This query calculates the average salary for each department and orders it by the average salary.\n",
        "    SELECT e.department, AVG(s.salary) AS avg_salary\n",
        "    FROM employees e\n",
        "    JOIN salary s ON e.ID_usr = s.ID_usr\n",
        "    GROUP BY e.department\n",
        "    ORDER BY avg_salary DESC;\n",
        "    \"\"\"\n",
        "    }\n",
        "]\n",
        "\n",
        "# User query for this version\n",
        "user_query = \"Find the average salary by department.\"\n",
        "\n",
        "# Get response from the model\n",
        "print(return_CCRMSQL(user_query, context))\n"
      ],
      "metadata": {
        "colab": {
          "base_uri": "https://localhost:8080/"
        },
        "id": "AKkeJazlO2Hk",
        "outputId": "b6ef5911-9584-4bbb-b99b-c7fbcec9d63e"
      },
      "id": "AKkeJazlO2Hk",
      "execution_count": 13,
      "outputs": [
        {
          "output_type": "stream",
          "name": "stdout",
          "text": [
            "Sure! Here is the query to find the average salary by department:\n",
            "\n",
            "```sql\n",
            "SELECT e.department, AVG(s.salary) AS avg_salary\n",
            "FROM employees e\n",
            "JOIN salary s ON e.ID_usr = s.ID_usr\n",
            "GROUP BY e.department\n",
            "ORDER BY avg_salary DESC;\n",
            "```\n",
            "\n",
            "This query will calculate the average salary for each department and display the results ordered by the average salary in descending order.\n"
          ]
        }
      ]
    },
    {
      "cell_type": "code",
      "source": [
        "# Employees Who Have Not Received a Salary in the Last Year\n",
        "context = [\n",
        "    {'role': 'system', 'content': \"\"\"\n",
        "    CREATE TABLE employees (\n",
        "        ID_usr INT,\n",
        "        name VARCHAR(255),\n",
        "        department VARCHAR(255)\n",
        "    );\n",
        "\n",
        "    INSERT INTO employees (ID_usr, name, department) VALUES (1, 'John Doe', 'HR');\n",
        "    INSERT INTO employees (ID_usr, name, department) VALUES (2, 'Jane Smith', 'Finance');\n",
        "    INSERT INTO employees (ID_usr, name, department) VALUES (3, 'Emily Johnson', 'IT');\n",
        "\n",
        "    CREATE TABLE salary (\n",
        "        ID_usr INT,\n",
        "        year DATE,\n",
        "        salary FLOAT\n",
        "    );\n",
        "\n",
        "    INSERT INTO salary (ID_usr, year, salary) VALUES (1, '2023-01-01', 60000);\n",
        "    INSERT INTO salary (ID_usr, year, salary) VALUES (2, '2022-01-01', 70000);\n",
        "    INSERT INTO salary (ID_usr, year, salary) VALUES (3, '2024-01-01', 75000);\n",
        "    \"\"\"\n",
        "    },\n",
        "    {'role': 'system', 'content': \"\"\"\n",
        "    -- Sample Query\n",
        "    -- Find the employees who haven't received a salary in the last year.\n",
        "    -- This query checks if employees have salary records from the last year.\n",
        "    SELECT e.name\n",
        "    FROM employees e\n",
        "    LEFT JOIN salary s ON e.ID_usr = s.ID_usr AND s.year >= '2024-01-01'\n",
        "    WHERE s.ID_usr IS NULL;\n",
        "    \"\"\"\n",
        "    }\n",
        "]\n",
        "\n",
        "# User query for this version\n",
        "user_query = \"Find the employees who have not received a salary in the last year.\"\n",
        "\n",
        "# Get response from the model\n",
        "print(return_CCRMSQL(user_query, context))\n"
      ],
      "metadata": {
        "colab": {
          "base_uri": "https://localhost:8080/"
        },
        "id": "xULLcnG_O2A5",
        "outputId": "02e8a5d9-70eb-4cd3-8247-9901fe852941"
      },
      "id": "xULLcnG_O2A5",
      "execution_count": 14,
      "outputs": [
        {
          "output_type": "stream",
          "name": "stdout",
          "text": [
            "To find the employees who have not received a salary in the last year, you can use the following SQL query:\n",
            "\n",
            "```sql\n",
            "SELECT e.name\n",
            "FROM employees e\n",
            "LEFT JOIN salary s ON e.ID_usr = s.ID_usr AND s.year >= DATE_SUB(CURDATE(), INTERVAL 1 YEAR)\n",
            "WHERE s.ID_usr IS NULL;\n",
            "```\n",
            "\n",
            "This query will retrieve the names of employees who do not have a salary record for the last year.\n"
          ]
        }
      ]
    },
    {
      "cell_type": "markdown",
      "source": [
        "**Report on SQL Query Generation from Table Names**\n",
        "\n",
        "### Introduction\n",
        "The objective of this experiment was to evaluate how well GPT-3.5-Turbo can generate SQL queries using only table names and brief descriptions of their contents. The model was provided with structured table definitions and user queries, and its ability to determine the necessary tables and generate SQL statements was assessed.\n",
        "\n",
        "### Methodology\n",
        "We tested two different prompt strategies:\n",
        "1. **Basic Prompting** – Providing only table names and descriptions without structured SQL examples.\n",
        "2. **Few-Shot Learning** – Including structured SQL `CREATE TABLE` statements, sample rows, and example queries to guide the model.\n",
        "\n",
        "Several SQL queries were tested, such as retrieving an employee’s salary, finding the department with the highest average salary, and determining an employee’s degree. The model's responses were evaluated for correctness and efficiency.\n",
        "\n",
        "### Findings\n",
        "1. **Successful Cases:**\n",
        "   - The model correctly identified required tables and generated accurate SQL queries for straightforward queries (e.g., retrieving employee salaries, filtering data based on names, and performing simple joins).\n",
        "   - Few-shot learning improved performance, as including sample SQL queries in the prompt led to more structured and precise responses.\n",
        "\n",
        "2. **Errors and Limitations:**\n",
        "   - **Omission of Necessary Tables:** In some cases, the model failed to include all relevant tables. For example, when querying for orders placed by a specific customer, the model initially included only the `orders` table instead of both `orders` and `customers`.\n",
        "   - **Syntax Errors:** Minor issues such as missing commas, incorrect column names, or use of non-SQLite syntax were observed.\n",
        "   - **Ambiguous Queries:** If a user query was vague, the model sometimes hallucinated relationships between tables that did not exist.\n",
        "\n",
        "### Lessons Learned\n",
        "- **Few-shot prompting significantly enhances accuracy**, particularly when example queries are provided.\n",
        "- **Defining table structures using SQL `CREATE TABLE` statements** helps the model understand schema relationships better.\n",
        "- **The model may hallucinate or omit necessary tables**, requiring additional verification and fine-tuning of prompts.\n",
        "- **Using explicit JOIN conditions and filtering statements in the examples** helps guide the model toward generating correct queries.\n",
        "\n",
        "### Conclusion\n",
        "GPT-3.5-Turbo is effective in generating SQL queries when properly guided with structured table definitions and few-shot examples. However, careful prompt engineering and manual verification are necessary to ensure accuracy. Future improvements may involve fine-tuning on SQL-specific datasets or implementing additional validation layers to check the correctness of generated queries before execution.\n",
        "\n"
      ],
      "metadata": {
        "id": "NDXM6HVSO4YM"
      },
      "id": "NDXM6HVSO4YM"
    }
  ],
  "metadata": {
    "colab": {
      "provenance": []
    },
    "kernelspec": {
      "display_name": "Python 3 (ipykernel)",
      "language": "python",
      "name": "python3"
    },
    "language_info": {
      "codemirror_mode": {
        "name": "ipython",
        "version": 3
      },
      "file_extension": ".py",
      "mimetype": "text/x-python",
      "name": "python",
      "nbconvert_exporter": "python",
      "pygments_lexer": "ipython3",
      "version": "3.11.8"
    }
  },
  "nbformat": 4,
  "nbformat_minor": 5
}